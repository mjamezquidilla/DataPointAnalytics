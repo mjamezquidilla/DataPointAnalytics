{
 "cells": [
  {
   "cell_type": "markdown",
   "metadata": {},
   "source": [
    "# Data Analysis for Origanum vulgare on Human Blood Samples\n",
    "#### Date: April 18, 2018\n",
    "Data Analysts:\n",
    "- Engr. Michael James C. Quidilla, CE\n",
    "- Ms. Queeny Ann Añora\n",
    "- Ms. Sarah Anwar\n",
    "\n",
    "Software used: R\n",
    "\n",
    "References: \n",
    "\n",
    " - Elementary Statistics Eight Edition by BLUMAN\n",
    " - Modern Business Statistics 4th Edition by Anderson, Sweeney and Williams\n",
    " - Data Analysis Basics for Managers by Harvard Press Review"
   ]
  },
  {
   "cell_type": "markdown",
   "metadata": {},
   "source": [
    "## 1.0. Objectives of the Analysis\n",
    "### 1.1. General Objective\n",
    "\n",
    "- To determine the anticoagulant activity of different concentrations and different types of extract of Origanum vulgare on human blood samples.\n",
    "\n",
    "### 1.2.\tSpecific Objectives \n",
    "\n",
    "  - To determine whether there will be significant increase in the Mean Plasma Recalcification Time using 200µg/ml of O. vulgare aqueous extract VS Positive Control on human blood samples.\n",
    "  \n",
    "  - To determine whether there will be significant increase in the Mean Plasma Recalcification Time using 400µg/ml of O. vulgare aqueous extract VS Positive Control on human blood samples.\n",
    "  \n",
    "  - To determine whether there will be significant increase in the Mean Plasma Recalcification Time using 200µg/ml of O. vulgare ethanolic extract VS Positive Control on human blood samples.\n",
    "  \n",
    "  - To determine whether there will be significant increase in the Mean Plasma Recalcification Time using 400µg/ml of O. vulgare ethanolic extract VS Positive Control on human blood samples.\n",
    "\n",
    "  - To compare the Mean Plasma Recalcification Time between the aqueous extract or ethanolic extract of O. vulgare."
   ]
  },
  {
   "cell_type": "markdown",
   "metadata": {},
   "source": [
    "## 2.0 Data Results and Data Exploration"
   ]
  },
  {
   "cell_type": "markdown",
   "metadata": {},
   "source": [
    "Step 1: Importing the Results data"
   ]
  },
  {
   "cell_type": "code",
   "execution_count": 1,
   "metadata": {},
   "outputs": [
    {
     "name": "stderr",
     "output_type": "stream",
     "text": [
      "Parsed with column specification:\n",
      "cols(\n",
      "  Subjects = col_character(),\n",
      "  `Positive_Control_(s)` = col_integer(),\n",
      "  `Negative_Control_(s)` = col_integer(),\n",
      "  `Untreated_(s)` = col_integer(),\n",
      "  `Aqueous_Extract_200microg/ml_(s)` = col_integer(),\n",
      "  `Aqueous_Extract_400microg/ml_(s)` = col_integer(),\n",
      "  `Ethanol_Extract_200microg/ml_(s)` = col_integer(),\n",
      "  `Ethanol_Extract_400microg/ml_(s)` = col_integer()\n",
      ")\n"
     ]
    },
    {
     "data": {
      "text/html": [
       "<table>\n",
       "<thead><tr><th scope=col>Subjects</th><th scope=col>Positive_Control_(s)</th><th scope=col>Negative_Control_(s)</th><th scope=col>Untreated_(s)</th><th scope=col>Aqueous_Extract_200microg/ml_(s)</th><th scope=col>Aqueous_Extract_400microg/ml_(s)</th><th scope=col>Ethanol_Extract_200microg/ml_(s)</th><th scope=col>Ethanol_Extract_400microg/ml_(s)</th></tr></thead>\n",
       "<tbody>\n",
       "\t<tr><td>A  </td><td>534</td><td>160</td><td>140</td><td>485</td><td>640</td><td>600</td><td>738</td></tr>\n",
       "\t<tr><td>B  </td><td>602</td><td>230</td><td>270</td><td>583</td><td>638</td><td>622</td><td>890</td></tr>\n",
       "\t<tr><td>C  </td><td>628</td><td>333</td><td>230</td><td>640</td><td>742</td><td>690</td><td>930</td></tr>\n",
       "\t<tr><td>D  </td><td>583</td><td>268</td><td>142</td><td>526</td><td>562</td><td>633</td><td>848</td></tr>\n",
       "</tbody>\n",
       "</table>\n"
      ],
      "text/latex": [
       "\\begin{tabular}{r|llllllll}\n",
       " Subjects & Positive\\_Control\\_(s) & Negative\\_Control\\_(s) & Untreated\\_(s) & Aqueous\\_Extract\\_200microg/ml\\_(s) & Aqueous\\_Extract\\_400microg/ml\\_(s) & Ethanol\\_Extract\\_200microg/ml\\_(s) & Ethanol\\_Extract\\_400microg/ml\\_(s)\\\\\n",
       "\\hline\n",
       "\t A   & 534 & 160 & 140 & 485 & 640 & 600 & 738\\\\\n",
       "\t B   & 602 & 230 & 270 & 583 & 638 & 622 & 890\\\\\n",
       "\t C   & 628 & 333 & 230 & 640 & 742 & 690 & 930\\\\\n",
       "\t D   & 583 & 268 & 142 & 526 & 562 & 633 & 848\\\\\n",
       "\\end{tabular}\n"
      ],
      "text/markdown": [
       "\n",
       "Subjects | Positive_Control_(s) | Negative_Control_(s) | Untreated_(s) | Aqueous_Extract_200microg/ml_(s) | Aqueous_Extract_400microg/ml_(s) | Ethanol_Extract_200microg/ml_(s) | Ethanol_Extract_400microg/ml_(s) | \n",
       "|---|---|---|---|\n",
       "| A   | 534 | 160 | 140 | 485 | 640 | 600 | 738 | \n",
       "| B   | 602 | 230 | 270 | 583 | 638 | 622 | 890 | \n",
       "| C   | 628 | 333 | 230 | 640 | 742 | 690 | 930 | \n",
       "| D   | 583 | 268 | 142 | 526 | 562 | 633 | 848 | \n",
       "\n",
       "\n"
      ],
      "text/plain": [
       "  Subjects Positive_Control_(s) Negative_Control_(s) Untreated_(s)\n",
       "1 A        534                  160                  140          \n",
       "2 B        602                  230                  270          \n",
       "3 C        628                  333                  230          \n",
       "4 D        583                  268                  142          \n",
       "  Aqueous_Extract_200microg/ml_(s) Aqueous_Extract_400microg/ml_(s)\n",
       "1 485                              640                             \n",
       "2 583                              638                             \n",
       "3 640                              742                             \n",
       "4 526                              562                             \n",
       "  Ethanol_Extract_200microg/ml_(s) Ethanol_Extract_400microg/ml_(s)\n",
       "1 600                              738                             \n",
       "2 622                              890                             \n",
       "3 690                              930                             \n",
       "4 633                              848                             "
      ]
     },
     "metadata": {},
     "output_type": "display_data"
    }
   ],
   "source": [
    "library(readr)\n",
    "Research_results <- read_csv(\"./Research_results.csv\")\n",
    "Research_results"
   ]
  },
  {
   "cell_type": "markdown",
   "metadata": {},
   "source": [
    "Step 2: Showing the descriptive statistics summary of the Data"
   ]
  },
  {
   "cell_type": "code",
   "execution_count": 2,
   "metadata": {},
   "outputs": [
    {
     "data": {
      "text/plain": [
       "   Subjects         Positive_Control_(s) Negative_Control_(s) Untreated_(s)  \n",
       " Length:4           Min.   :534.0        Min.   :160.0        Min.   :140.0  \n",
       " Class :character   1st Qu.:570.8        1st Qu.:212.5        1st Qu.:141.5  \n",
       " Mode  :character   Median :592.5        Median :249.0        Median :186.0  \n",
       "                    Mean   :586.8        Mean   :247.8        Mean   :195.5  \n",
       "                    3rd Qu.:608.5        3rd Qu.:284.2        3rd Qu.:240.0  \n",
       "                    Max.   :628.0        Max.   :333.0        Max.   :270.0  \n",
       " Aqueous_Extract_200microg/ml_(s) Aqueous_Extract_400microg/ml_(s)\n",
       " Min.   :485.0                    Min.   :562.0                   \n",
       " 1st Qu.:515.8                    1st Qu.:619.0                   \n",
       " Median :554.5                    Median :639.0                   \n",
       " Mean   :558.5                    Mean   :645.5                   \n",
       " 3rd Qu.:597.2                    3rd Qu.:665.5                   \n",
       " Max.   :640.0                    Max.   :742.0                   \n",
       " Ethanol_Extract_200microg/ml_(s) Ethanol_Extract_400microg/ml_(s)\n",
       " Min.   :600.0                    Min.   :738.0                   \n",
       " 1st Qu.:616.5                    1st Qu.:820.5                   \n",
       " Median :627.5                    Median :869.0                   \n",
       " Mean   :636.2                    Mean   :851.5                   \n",
       " 3rd Qu.:647.2                    3rd Qu.:900.0                   \n",
       " Max.   :690.0                    Max.   :930.0                   "
      ]
     },
     "metadata": {},
     "output_type": "display_data"
    }
   ],
   "source": [
    "summary(Research_results)"
   ]
  },
  {
   "cell_type": "markdown",
   "metadata": {},
   "source": [
    "As shown above, the mean of the Positive Control Population, Aqueous Extract 200microgram/ml, Aqueous Extract 400microgram/ml and Ethanol Extract 200microgram/ml is near. Using Statistical test such as T-test will determine the there is a significant difference between 2 population"
   ]
  },
  {
   "cell_type": "markdown",
   "metadata": {},
   "source": [
    "## 3.0. Inference Statistics\n",
    "\n",
    "### 3.1. Comparing two sample population between two populations with sample less than 30\n",
    "\n",
    "- To compare the sample means of two populations, the analyst chose to use the student's t test for the following criteria:\n",
    "\n",
    "    a. Sample size is less than 30.\n",
    "    \n",
    "    b. Sample population is assumed to be normally distributed.\n",
    "    \n",
    "    c. Samples are random samples\n",
    "    \n",
    "    d. Sample data are independent of one another\n",
    "\n",
    "### 3.2. Positive Control Population VS Aqueous Extract 200microgram/millilter\n",
    "\n",
    "#### 3.2.1 Hypothesis\n",
    "\n",
    "Null Hypothesis $ H_0 $ : There is no difference of the sample mean between the Positive Population and the Aqueous Extract 200microgram/milliliter.\n",
    "\n",
    "Alternative Hypothesis $H_a$ : There is a difference of the sample mean between the Positive Population and the Aqueous Extract 200microgram/milliliter.\n",
    "\n",
    "#### 3.2.2 Assumptions\n",
    "\n",
    "- Sample Variance is not equal to both population\n",
    "\n",
    "- Sample Population is normally distributed\n",
    "\n",
    "- 95% Confidence Interval"
   ]
  },
  {
   "cell_type": "code",
   "execution_count": 11,
   "metadata": {},
   "outputs": [
    {
     "data": {
      "text/plain": [
       "\n",
       "\tWelch Two Sample t-test\n",
       "\n",
       "data:  Research_results$`Positive_Control_(s)` and Research_results$`Aqueous_Extract_200microg/ml_(s)`\n",
       "t = 0.72082, df = 4.851, p-value = 0.5042\n",
       "alternative hypothesis: true difference in means is not equal to 0\n",
       "95 percent confidence interval:\n",
       " -73.43284 129.93284\n",
       "sample estimates:\n",
       "mean of x mean of y \n",
       "   586.75    558.50 \n"
      ]
     },
     "metadata": {},
     "output_type": "display_data"
    }
   ],
   "source": [
    "t.test(x=Research_results$`Positive_Control_(s)`, # data for the Positive Control as x\n",
    "       y=Research_results$`Aqueous_Extract_200microg/ml_(s)`, # data for the Aqueous Extract 200 as y\n",
    "       var.equal = FALSE, # Assume Variance of the population is not equal\n",
    "       mu = 0) # Null hypothesis M1 - M2 = 0"
   ]
  },
  {
   "cell_type": "markdown",
   "metadata": {},
   "source": [
    "Criteria for rejection of Null Hypothesis for 95% interval:\n",
    "- critical value approach: $ t \\le t_{alpha} $\n",
    "- p-value approach: $ p-value \\le \\alpha $\n",
    "\n",
    "Using p-value approach, since $ 0.5042 > 0.05 $, do not Reject Null Hypothesis\n",
    "\n",
    "**At 95% Confidence, There is no difference between the Positive Control Population VS Aqueous Extract 200microgram/milliliter Population**"
   ]
  },
  {
   "cell_type": "markdown",
   "metadata": {},
   "source": [
    "### 3.3. Positive Control Population VS Aqueous Extract 400microgram/millilter\n",
    "\n",
    "#### 3.3.1 Hypothesis\n",
    "\n",
    "Null Hypothesis $ H_0 $ : There is no difference of the sample mean between the Positive Population and the Aqueous Extract 400microgram/milliliter.\n",
    "\n",
    "Alternative Hypothesis $H_a$ : There is a difference of the sample mean between the Positive Population and the Aqueous Extract 400microgram/milliliter.\n",
    "\n",
    "#### 3.3.2 Assumptions\n",
    "\n",
    "- Sample Variance is not equal to both population\n",
    "\n",
    "- Sample Population is normally distributed\n",
    "\n",
    "- 95% Confidence Interval"
   ]
  },
  {
   "cell_type": "code",
   "execution_count": 12,
   "metadata": {},
   "outputs": [
    {
     "data": {
      "text/plain": [
       "\n",
       "\tWelch Two Sample t-test\n",
       "\n",
       "data:  Research_results$`Positive_Control_(s)` and Research_results$`Aqueous_Extract_400microg/ml_(s)`\n",
       "t = -1.401, df = 4.6002, p-value = 0.2249\n",
       "alternative hypothesis: true difference in means is not equal to 0\n",
       "95 percent confidence interval:\n",
       " -169.42501   51.92501\n",
       "sample estimates:\n",
       "mean of x mean of y \n",
       "   586.75    645.50 \n"
      ]
     },
     "metadata": {},
     "output_type": "display_data"
    }
   ],
   "source": [
    "t.test(x=Research_results$`Positive_Control_(s)`, # data for the Positive Control as x\n",
    "       y=Research_results$`Aqueous_Extract_400microg/ml_(s)`, # data for the Aqueous Extract 400 as y\n",
    "       var.equal = FALSE, # Assume Variance of the population is not equal\n",
    "       mu = 0) # Null hypothesis M1 - M2 = 0"
   ]
  },
  {
   "cell_type": "markdown",
   "metadata": {},
   "source": [
    "Criteria for rejection of Null Hypothesis for 95% interval:\n",
    "- critical value approach: $ t \\le t_{alpha} $\n",
    "- p-value approach: $ p-value \\le \\alpha $\n",
    "\n",
    "Using p-value approach, since $ 0.2249 > 0.05 $, do not Reject Null Hypothesis\n",
    "\n",
    "**At 95% Confidence, There is no difference between the Positive Control Population VS Aqueous Extract 400microgram/milliliter Population**"
   ]
  },
  {
   "cell_type": "markdown",
   "metadata": {},
   "source": [
    "### 3.4. Positive Control Population VS Ethanol Extract 200microgram/millilter\n",
    "\n",
    "#### 3.4.1 Hypothesis\n",
    "\n",
    "Null Hypothesis $ H_0 $ : There is no difference of the sample mean between the Positive Population and the Ethanol Extract 200microgram/milliliter.\n",
    "\n",
    "Alternative Hypothesis $H_a$ : There is a difference of the sample mean between the Positive Population and the Ethanol Extract 200microgram/milliliter.\n",
    "\n",
    "#### 3.4.2 Assumptions\n",
    "\n",
    "- Sample Variance is not equal to both population\n",
    "\n",
    "- Sample Population is normally distributed\n",
    "\n",
    "- 95% Confidence Interval"
   ]
  },
  {
   "cell_type": "code",
   "execution_count": 14,
   "metadata": {},
   "outputs": [
    {
     "data": {
      "text/plain": [
       "\n",
       "\tWelch Two Sample t-test\n",
       "\n",
       "data:  Research_results$`Positive_Control_(s)` and Research_results$`Ethanol_Extract_200microg/ml_(s)`\n",
       "t = -1.7929, df = 5.9929, p-value = 0.1232\n",
       "alternative hypothesis: true difference in means is not equal to 0\n",
       "95 percent confidence interval:\n",
       " -117.07763   18.07763\n",
       "sample estimates:\n",
       "mean of x mean of y \n",
       "   586.75    636.25 \n"
      ]
     },
     "metadata": {},
     "output_type": "display_data"
    }
   ],
   "source": [
    "t.test(x=Research_results$`Positive_Control_(s)`, # data for the Positive Control as x\n",
    "       y=Research_results$`Ethanol_Extract_200microg/ml_(s)`, # data for the Ethanol Extract 200 as y\n",
    "       var.equal = FALSE, # Assume Variance of the population is not equal\n",
    "       mu = 0) # Null hypothesis M1 - M2 = 0"
   ]
  },
  {
   "cell_type": "markdown",
   "metadata": {},
   "source": [
    "Criteria for rejection of Null Hypothesis for 95% interval:\n",
    "- critical value approach: $ t \\le t_{alpha} $\n",
    "- p-value approach: $ p-value \\le \\alpha $\n",
    "\n",
    "Using p-value approach, since $ 0.1232 > 0.05 $, do not Reject Null Hypothesis\n",
    "\n",
    "**At 95% Confidence, There is no difference between the Positive Control Population VS Ethanol Extract 200microgram/milliliter Population**"
   ]
  },
  {
   "cell_type": "markdown",
   "metadata": {},
   "source": [
    "### 3.5. Positive Control Population VS Ethanol Extract 200microgram/millilter\n",
    "\n",
    "#### 3.5.1 Hypothesis\n",
    "\n",
    "Null Hypothesis $ H_0 $ : There is no difference of the sample mean between the Positive Population and the Ethanol Extract 200microgram/milliliter.\n",
    "\n",
    "Alternative Hypothesis $H_a$ : There is a difference of the sample mean between the Positive Population and the Ethanol Extract 200microgram/milliliter.\n",
    "\n",
    "#### 3.5.2 Assumptions\n",
    "\n",
    "- Sample Variance is not equal to both population\n",
    "\n",
    "- Sample Population is normally distributed\n",
    "\n",
    "- 95% Confidence Interval"
   ]
  },
  {
   "cell_type": "code",
   "execution_count": 15,
   "metadata": {},
   "outputs": [
    {
     "data": {
      "text/plain": [
       "\n",
       "\tWelch Two Sample t-test\n",
       "\n",
       "data:  Research_results$`Positive_Control_(s)` and Research_results$`Ethanol_Extract_400microg/ml_(s)`\n",
       "t = -5.7693, df = 4.3124, p-value = 0.003546\n",
       "alternative hypothesis: true difference in means is not equal to 0\n",
       "95 percent confidence interval:\n",
       " -388.6003 -140.8997\n",
       "sample estimates:\n",
       "mean of x mean of y \n",
       "   586.75    851.50 \n"
      ]
     },
     "metadata": {},
     "output_type": "display_data"
    }
   ],
   "source": [
    "t.test(x=Research_results$`Positive_Control_(s)`, # data for the Positive Control as x\n",
    "       y=Research_results$`Ethanol_Extract_400microg/ml_(s)`, # data for the Ethanol Extract 400 as y\n",
    "       var.equal = FALSE, # Assume Variance of the population is not equal\n",
    "       mu = 0) # Null hypothesis M1 - M2 = 0"
   ]
  },
  {
   "cell_type": "markdown",
   "metadata": {},
   "source": [
    "Criteria for rejection of Null Hypothesis for 95% interval:\n",
    "- critical value approach: $ t \\le t_{alpha} $\n",
    "- p-value approach: $ p-value \\le \\alpha $\n",
    "\n",
    "Using p-value approach, since $ 0.003546 < 0.05 $, do not Reject Null Hypothesis\n",
    "\n",
    "**At 95% Confidence, There is a difference between the Positive Control Population VS Ethanol Extract 400microgram/milliliter Population**"
   ]
  },
  {
   "cell_type": "markdown",
   "metadata": {},
   "source": [
    "## 4.0 Summary of Analysis\n",
    "\n",
    "From computation above, the summary of the results are as follows:\n",
    "\n",
    "1. Only the mean of the **Ethanol Extract of 400microgram/milliliter has an significant difference towards the mean of the Positive Control Population**.\n",
    "\n",
    "2. Other Extract means do not have significant difference towards the Positive Control Population\n",
    "\n",
    "Ways to improve result:\n",
    "\n",
    "1. **Increase size of the sample population.** This method ensures that the sample population would be nearer to the normal distribution curve. Hence, more accuracy of the results may follow. This also ensures that the variance of the data will captured. 4 data points per sample population is quite low."
   ]
  }
 ],
 "metadata": {
  "kernelspec": {
   "display_name": "R",
   "language": "R",
   "name": "ir"
  },
  "language_info": {
   "codemirror_mode": "r",
   "file_extension": ".r",
   "mimetype": "text/x-r-source",
   "name": "R",
   "pygments_lexer": "r",
   "version": "3.4.4"
  }
 },
 "nbformat": 4,
 "nbformat_minor": 2
}
